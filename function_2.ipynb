{
  "nbformat": 4,
  "nbformat_minor": 0,
  "metadata": {
    "colab": {
      "provenance": [],
      "authorship_tag": "ABX9TyOibbGo8gcQ8FipLFS5QuKp",
      "include_colab_link": true
    },
    "kernelspec": {
      "name": "python3",
      "display_name": "Python 3"
    },
    "language_info": {
      "name": "python"
    }
  },
  "cells": [
    {
      "cell_type": "markdown",
      "metadata": {
        "id": "view-in-github",
        "colab_type": "text"
      },
      "source": [
        "<a href=\"https://colab.research.google.com/github/Aneusrymm/Python/blob/main/function_2.ipynb\" target=\"_parent\"><img src=\"https://colab.research.google.com/assets/colab-badge.svg\" alt=\"Open In Colab\"/></a>"
      ]
    },
    {
      "cell_type": "code",
      "source": [
        "def adder(a,b,c):\n",
        "    \"\"\"\n",
        "    function to sum the 3 numbers\n",
        "    Input: 3 numbers a,b,c\n",
        "    Output: the sum of a,b and c\n",
        "    author:\n",
        "    date:\n",
        "    \"\"\"\n",
        "\n",
        "    #this function summation\n",
        "    out = a + b + c\n",
        "\n",
        "    return out"
      ],
      "metadata": {
        "id": "blEKibQC0ikx"
      },
      "execution_count": 25,
      "outputs": []
    },
    {
      "cell_type": "code",
      "source": [
        "adder(1,2,3)"
      ],
      "metadata": {
        "colab": {
          "base_uri": "https://localhost:8080/"
        },
        "id": "-abZTnXL1DxN",
        "outputId": "f8506b03-b4cf-4af7-c2e1-b077aef0fa50"
      },
      "execution_count": 26,
      "outputs": [
        {
          "output_type": "execute_result",
          "data": {
            "text/plain": [
              "6"
            ]
          },
          "metadata": {},
          "execution_count": 26
        }
      ]
    }
  ]
}