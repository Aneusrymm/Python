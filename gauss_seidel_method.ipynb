{
  "nbformat": 4,
  "nbformat_minor": 0,
  "metadata": {
    "colab": {
      "provenance": [],
      "authorship_tag": "ABX9TyPIOBfWwj7E9XzYHOrKT2Iq",
      "include_colab_link": true
    },
    "kernelspec": {
      "name": "python3",
      "display_name": "Python 3"
    },
    "language_info": {
      "name": "python"
    }
  },
  "cells": [
    {
      "cell_type": "markdown",
      "metadata": {
        "id": "view-in-github",
        "colab_type": "text"
      },
      "source": [
        "<a href=\"https://colab.research.google.com/github/Aneusrymm/Python/blob/main/gauss_seidel_method.ipynb\" target=\"_parent\"><img src=\"https://colab.research.google.com/assets/colab-badge.svg\" alt=\"Open In Colab\"/></a>"
      ]
    },
    {
      "cell_type": "code",
      "source": [
        "import numpy as np\n",
        "a = [[8, 3, -3], [2, -8 ,5],[3, 5, 10]]\n",
        "\n",
        "#find diagonal coeficients\n",
        "diag = np.diag(np.abs(a))\n",
        "\n",
        "#find row sum without diagonal\n",
        "off_diag = np.sum(np.abs(a), axis = 1) - diag\n",
        "\n",
        "if np.all(diag > off_diag):\n",
        "    print('matrix is diagonally dominant')\n",
        "else:\n",
        "  print('not diagonally dominant')"
      ],
      "metadata": {
        "colab": {
          "base_uri": "https://localhost:8080/"
        },
        "id": "n81EYH_6LiJM",
        "outputId": "2485cffd-7058-4d6e-97e8-b4a2ca4ea2c8"
      },
      "execution_count": 12,
      "outputs": [
        {
          "output_type": "stream",
          "name": "stdout",
          "text": [
            "matrix is diagonally dominant\n"
          ]
        }
      ]
    },
    {
      "cell_type": "code",
      "source": [
        "x1 = 0\n",
        "x2 = 0\n",
        "x3 = 0\n",
        "eplison = 0.01\n",
        "converged = False\n",
        "\n",
        "x_old = np.array ([x1,x2,x3])"
      ],
      "metadata": {
        "id": "SlvhmNhnMmNn"
      },
      "execution_count": 14,
      "outputs": []
    },
    {
      "cell_type": "code",
      "source": [
        "print('interation result')\n",
        "print('k,    x1,    x2,    x3')\n",
        "for k in range(1,50):\n",
        "  x1 = (14-3*x2+3*x3)/8\n",
        "  x2 = (5+2*x1-5*x3)/(-8)\n",
        "  x3 = (-8-3*x1-5*x2)/(10)\n",
        "  x  = np.array([x1,x2,x3])\n",
        "  #check if it is smaller than threshold\n",
        "  dx = np.sqrt(np.dot(x-x_old, x-x_old))\n",
        "\n",
        "  print(\"%d, %.4f, %.4f, %.4f\"%(k,x1,x2,x3))\n",
        "  if dx < eplison:\n",
        "    converged = True\n",
        "    print('Converged!')\n",
        "    break\n",
        "\n",
        "    #assgin the latest x value to the old value\n",
        "    x_old = x1\n",
        "  \n",
        "if not converged:\n",
        "  print('not converged, increase the # of interations')"
      ],
      "metadata": {
        "colab": {
          "base_uri": "https://localhost:8080/"
        },
        "id": "--3UeAhAM8Hw",
        "outputId": "0cad8fb9-b0ed-4fe8-8b25-a4fcac5bc795"
      },
      "execution_count": 17,
      "outputs": [
        {
          "output_type": "stream",
          "name": "stdout",
          "text": [
            "interation result\n",
            "k,    x1,    x2,    x3\n",
            "1, 2.0888, -1.5534, -0.6499\n",
            "2, 2.0888, -1.5534, -0.6499\n",
            "3, 2.0888, -1.5534, -0.6499\n",
            "4, 2.0888, -1.5534, -0.6499\n",
            "5, 2.0888, -1.5534, -0.6499\n",
            "6, 2.0888, -1.5534, -0.6499\n",
            "7, 2.0888, -1.5534, -0.6499\n",
            "8, 2.0888, -1.5534, -0.6499\n",
            "9, 2.0888, -1.5534, -0.6499\n",
            "10, 2.0888, -1.5534, -0.6499\n",
            "11, 2.0888, -1.5534, -0.6499\n",
            "12, 2.0888, -1.5534, -0.6499\n",
            "13, 2.0888, -1.5534, -0.6499\n",
            "14, 2.0888, -1.5534, -0.6499\n",
            "15, 2.0888, -1.5534, -0.6499\n",
            "16, 2.0888, -1.5534, -0.6499\n",
            "17, 2.0888, -1.5534, -0.6499\n",
            "18, 2.0888, -1.5534, -0.6499\n",
            "19, 2.0888, -1.5534, -0.6499\n",
            "20, 2.0888, -1.5534, -0.6499\n",
            "21, 2.0888, -1.5534, -0.6499\n",
            "22, 2.0888, -1.5534, -0.6499\n",
            "23, 2.0888, -1.5534, -0.6499\n",
            "24, 2.0888, -1.5534, -0.6499\n",
            "25, 2.0888, -1.5534, -0.6499\n",
            "26, 2.0888, -1.5534, -0.6499\n",
            "27, 2.0888, -1.5534, -0.6499\n",
            "28, 2.0888, -1.5534, -0.6499\n",
            "29, 2.0888, -1.5534, -0.6499\n",
            "30, 2.0888, -1.5534, -0.6499\n",
            "31, 2.0888, -1.5534, -0.6499\n",
            "32, 2.0888, -1.5534, -0.6499\n",
            "33, 2.0888, -1.5534, -0.6499\n",
            "34, 2.0888, -1.5534, -0.6499\n",
            "35, 2.0888, -1.5534, -0.6499\n",
            "36, 2.0888, -1.5534, -0.6499\n",
            "37, 2.0888, -1.5534, -0.6499\n",
            "38, 2.0888, -1.5534, -0.6499\n",
            "39, 2.0888, -1.5534, -0.6499\n",
            "40, 2.0888, -1.5534, -0.6499\n",
            "41, 2.0888, -1.5534, -0.6499\n",
            "42, 2.0888, -1.5534, -0.6499\n",
            "43, 2.0888, -1.5534, -0.6499\n",
            "44, 2.0888, -1.5534, -0.6499\n",
            "45, 2.0888, -1.5534, -0.6499\n",
            "46, 2.0888, -1.5534, -0.6499\n",
            "47, 2.0888, -1.5534, -0.6499\n",
            "48, 2.0888, -1.5534, -0.6499\n",
            "49, 2.0888, -1.5534, -0.6499\n",
            "not converged, increase the # of interations\n"
          ]
        }
      ]
    }
  ]
}